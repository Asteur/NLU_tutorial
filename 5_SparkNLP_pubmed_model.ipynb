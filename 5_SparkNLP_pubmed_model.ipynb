{
 "cells": [
  {
   "cell_type": "code",
   "execution_count": 1,
   "metadata": {
    "collapsed": true
   },
   "outputs": [],
   "source": [
    "from __future__ import division, print_function\n",
    "\n",
    "import sys"
   ]
  },
  {
   "cell_type": "code",
   "execution_count": 2,
   "metadata": {
    "collapsed": true
   },
   "outputs": [],
   "source": [
    "sys.path.append('/home/jovyan/pysparknlp-1.0.0/')"
   ]
  },
  {
   "cell_type": "code",
   "execution_count": 3,
   "metadata": {
    "collapsed": true
   },
   "outputs": [],
   "source": [
    "from Bio import Entrez, Medline\n",
    "\n",
    "import matplotlib.pyplot as plt\n",
    "import nltk\n",
    "import numpy as np\n",
    "import pandas as pd\n",
    "import pyspark\n",
    "from pyspark.ml import Pipeline, feature as spark_ft, classification as spark_cls\n",
    "from sklearn import metrics as skmetrics\n",
    "import spacy\n",
    "import sparknlp.annotators as sparknlp\n",
    "import wordcloud\n",
    "\n",
    "%matplotlib inline"
   ]
  },
  {
   "cell_type": "code",
   "execution_count": 4,
   "metadata": {
    "collapsed": true
   },
   "outputs": [],
   "source": [
    "spark = pyspark.sql.SparkSession.builder \\\n",
    "    .master('local[4]') \\\n",
    "    .appName('notebook') \\\n",
    "    .config('spark.jars', 'pysparknlp-1.0.0/lib/sparknlp.jar') \\\n",
    "    .config('spark.jars.packages', 'com.databricks:spark-xml_2.11:0.4.1') \\\n",
    "    .getOrCreate()"
   ]
  },
  {
   "cell_type": "code",
   "execution_count": 5,
   "metadata": {
    "collapsed": true
   },
   "outputs": [],
   "source": [
    "def query(terms, num_docs=1000):\n",
    "    search_term = '+'.join(terms)\n",
    "    print('Searching PubMed abstracts for documents containing term: ',search_term)\n",
    "    handle = Entrez.esearch(db=\"pubmed\", term=search_term, retmax=num_docs)\n",
    "    record = Entrez.read(handle)\n",
    "    handle.close()\n",
    "    idlist = record[\"IdList\"]\n",
    "    \n",
    "    handle = Entrez.efetch(db=\"pubmed\", id=idlist, rettype=\"medline\",retmode=\"text\")\n",
    "    records = Medline.parse(handle)\n",
    "    data = []\n",
    "    for record in records:\n",
    "        data.append((record.get(\"TI\", \"?\"),record.get(\"AU\", \"?\"),record.get(\"SO\", \"?\"),record.get(\"AB\",\"?\")))\n",
    "\n",
    "    df = pd.DataFrame(data=data, columns=['Title','Authors','Source','Abstract'])\n",
    "    df.head(10)\n",
    "\n",
    "    df.replace(r'^\\?$', np.nan, regex=True, inplace=True)\n",
    "    df['Authors'] = df['Authors'].apply(lambda x: x if isinstance(x, list) else [])\n",
    "    df.fillna('', inplace=True)\n",
    "    df['Topic'] = search_term\n",
    "    \n",
    "    return spark.createDataFrame(df)"
   ]
  },
  {
   "cell_type": "code",
   "execution_count": 6,
   "metadata": {
    "collapsed": true
   },
   "outputs": [],
   "source": [
    "topics = [\n",
    "    ['type', '1', 'diabetes'], \n",
    "    ['creutzfeldt', 'jakob', 'disease'], \n",
    "    ['post', 'traumatic', 'stress', 'disorder'],\n",
    "    ['heart', 'disease']\n",
    "]"
   ]
  },
  {
   "cell_type": "code",
   "execution_count": 7,
   "metadata": {},
   "outputs": [
    {
     "name": "stdout",
     "output_type": "stream",
     "text": [
      "terms ['type', '1', 'diabetes'] num_docs 710\n",
      "Searching PubMed abstracts for documents containing term:  type+1+diabetes\n"
     ]
    },
    {
     "name": "stderr",
     "output_type": "stream",
     "text": [
      "/opt/conda/lib/python3.6/site-packages/Bio/Entrez/__init__.py:564: UserWarning: \n",
      "Email address is not specified.\n",
      "\n",
      "To make use of NCBI's E-utilities, NCBI requires you to specify your\n",
      "email address with each request.  As an example, if your email address\n",
      "is A.N.Other@example.com, you can specify it as follows:\n",
      "   from Bio import Entrez\n",
      "   Entrez.email = 'A.N.Other@example.com'\n",
      "In case of excessive usage of the E-utilities, NCBI will attempt to contact\n",
      "a user at the email address provided before blocking access to the\n",
      "E-utilities.\n",
      "  E-utilities.\"\"\", UserWarning)\n"
     ]
    },
    {
     "name": "stdout",
     "output_type": "stream",
     "text": [
      "terms ['creutzfeldt', 'jakob', 'disease'] num_docs 565\n",
      "Searching PubMed abstracts for documents containing term:  creutzfeldt+jakob+disease\n",
      "terms ['post', 'traumatic', 'stress', 'disorder'] num_docs 582\n",
      "Searching PubMed abstracts for documents containing term:  post+traumatic+stress+disorder\n",
      "terms ['heart', 'disease'] num_docs 522\n",
      "Searching PubMed abstracts for documents containing term:  heart+disease\n"
     ]
    }
   ],
   "source": [
    "texts = None\n",
    "\n",
    "np.random.seed(123)\n",
    "for terms in topics:\n",
    "    num_docs = np.random.randint(200, 1000)\n",
    "    print('terms', terms, 'num_docs', num_docs)\n",
    "    if texts is None:\n",
    "        texts = query(terms, num_docs)\n",
    "    else:\n",
    "        texts = texts.union(query(terms, num_docs))"
   ]
  },
  {
   "cell_type": "code",
   "execution_count": 8,
   "metadata": {},
   "outputs": [
    {
     "data": {
      "text/plain": [
       "2379"
      ]
     },
     "execution_count": 8,
     "metadata": {},
     "output_type": "execute_result"
    }
   ],
   "source": [
    "texts.count()"
   ]
  },
  {
   "cell_type": "code",
   "execution_count": 9,
   "metadata": {},
   "outputs": [
    {
     "name": "stdout",
     "output_type": "stream",
     "text": [
      "+--------------------+--------------------+--------------------+--------------------+---------------+\n",
      "|               Title|             Authors|              Source|            Abstract|          Topic|\n",
      "+--------------------+--------------------+--------------------+--------------------+---------------+\n",
      "|Presence of Human...|[Ericsson M, Skog O]|Pancreas. 2017 Se...|OBJECTIVES: The a...|type+1+diabetes|\n",
      "|A Multicenter Rea...|[Anjana RM, Kesav...|Diabetes Technol ...|AIM: To assess th...|type+1+diabetes|\n",
      "|A coordinated con...|[Herrero P, Bondi...|Comput Methods Bi...|Type 1 diabetes i...|type+1+diabetes|\n",
      "|Association betwe...|[Jermendy A, Szat...|Pediatr Diabetes....|BACKGROUND: Infec...|type+1+diabetes|\n",
      "|Prefronto-tempora...|[Yoon S, Kim J, M...|Pediatr Diabetes....|OBJECTIVE: Microv...|type+1+diabetes|\n",
      "|Possible Long-Ter...|[Awata T, Shimada...|Diabetes Ther. 20...|INTRODUCTION: We ...|type+1+diabetes|\n",
      "|The Elevated Rate...|[Magne F, Puchi S...|Front Pediatr. 20...|The current recom...|type+1+diabetes|\n",
      "|Multiple educatio...|[Vyas C, Dalal L,...|Diabetes Metab Sy...|AIMS: The aim of ...|type+1+diabetes|\n",
      "|Polycystic Ovary ...|[Reinauer C, Boll...|Exp Clin Endocrin...|Context While an ...|type+1+diabetes|\n",
      "|                    |[Hall B, Zebrowsk...|Exp Clin Endocrin...|Objectives The ai...|type+1+diabetes|\n",
      "|Epidemiology of t...|[Almahfoodh D, Al...|Diabetes Res Clin...|AIMS: To investig...|type+1+diabetes|\n",
      "|Skeletal fragilit...|          [Rubin MR]|Ann N Y Acad Sci....|Fracture risk is ...|type+1+diabetes|\n",
      "|How to effectivel...|[McCulloch V, Hop...|J Vis Commun Med....|Diabetes is one o...|type+1+diabetes|\n",
      "|Autoimmune diseas...|[Cipriani F, Marz...|J Dermatol. 2017 ...|Evidence has emer...|type+1+diabetes|\n",
      "|Diabetic ketoacid...|[Yamada H, Funaza...|Endocrinol Diabet...|Diabetic ketoacid...|type+1+diabetes|\n",
      "|Continuous glucos...| [Garg SK, Polsky S]|Lancet. 2017 Sep ...|                    |type+1+diabetes|\n",
      "|Continuous glucos...|[Feig DS, Donovan...|Lancet. 2017 Sep ...|BACKGROUND: Pregn...|type+1+diabetes|\n",
      "|Serous retinal de...|[Schatz P, Aldaye...|J Med Case Rep. 2...|BACKGROUND: Proli...|type+1+diabetes|\n",
      "|Relationship betw...|[Ranjan A, Wendt ...|Basic Clin Pharma...|Hypoglycaemia rem...|type+1+diabetes|\n",
      "|A Study Examining...|[Hinojosa SL, Hei...|J Am Coll Nutr. 2...|OBJECTIVE: The pu...|type+1+diabetes|\n",
      "+--------------------+--------------------+--------------------+--------------------+---------------+\n",
      "only showing top 20 rows\n",
      "\n"
     ]
    }
   ],
   "source": [
    "texts.show()"
   ]
  },
  {
   "cell_type": "code",
   "execution_count": 10,
   "metadata": {
    "collapsed": true
   },
   "outputs": [],
   "source": [
    "non_empty_texts = texts.where('Abstract != \"\"') \\\n",
    "    .withColumn('id', pyspark.sql.functions.monotonically_increasing_id())"
   ]
  },
  {
   "cell_type": "code",
   "execution_count": 11,
   "metadata": {},
   "outputs": [
    {
     "data": {
      "text/plain": [
       "2148"
      ]
     },
     "execution_count": 11,
     "metadata": {},
     "output_type": "execute_result"
    }
   ],
   "source": [
    "non_empty_texts.count()"
   ]
  },
  {
   "cell_type": "code",
   "execution_count": 12,
   "metadata": {},
   "outputs": [
    {
     "name": "stdout",
     "output_type": "stream",
     "text": [
      "+--------------------+--------------------+--------------------+--------------------+---------------+---+\n",
      "|               Title|             Authors|              Source|            Abstract|          Topic| id|\n",
      "+--------------------+--------------------+--------------------+--------------------+---------------+---+\n",
      "|Presence of Human...|[Ericsson M, Skog O]|Pancreas. 2017 Se...|OBJECTIVES: The a...|type+1+diabetes|  0|\n",
      "|A Multicenter Rea...|[Anjana RM, Kesav...|Diabetes Technol ...|AIM: To assess th...|type+1+diabetes|  1|\n",
      "|A coordinated con...|[Herrero P, Bondi...|Comput Methods Bi...|Type 1 diabetes i...|type+1+diabetes|  2|\n",
      "|Association betwe...|[Jermendy A, Szat...|Pediatr Diabetes....|BACKGROUND: Infec...|type+1+diabetes|  3|\n",
      "|Prefronto-tempora...|[Yoon S, Kim J, M...|Pediatr Diabetes....|OBJECTIVE: Microv...|type+1+diabetes|  4|\n",
      "|Possible Long-Ter...|[Awata T, Shimada...|Diabetes Ther. 20...|INTRODUCTION: We ...|type+1+diabetes|  5|\n",
      "|The Elevated Rate...|[Magne F, Puchi S...|Front Pediatr. 20...|The current recom...|type+1+diabetes|  6|\n",
      "|Multiple educatio...|[Vyas C, Dalal L,...|Diabetes Metab Sy...|AIMS: The aim of ...|type+1+diabetes|  7|\n",
      "|Polycystic Ovary ...|[Reinauer C, Boll...|Exp Clin Endocrin...|Context While an ...|type+1+diabetes|  8|\n",
      "|                    |[Hall B, Zebrowsk...|Exp Clin Endocrin...|Objectives The ai...|type+1+diabetes|  9|\n",
      "|Epidemiology of t...|[Almahfoodh D, Al...|Diabetes Res Clin...|AIMS: To investig...|type+1+diabetes| 10|\n",
      "|Skeletal fragilit...|          [Rubin MR]|Ann N Y Acad Sci....|Fracture risk is ...|type+1+diabetes| 11|\n",
      "|How to effectivel...|[McCulloch V, Hop...|J Vis Commun Med....|Diabetes is one o...|type+1+diabetes| 12|\n",
      "|Autoimmune diseas...|[Cipriani F, Marz...|J Dermatol. 2017 ...|Evidence has emer...|type+1+diabetes| 13|\n",
      "|Diabetic ketoacid...|[Yamada H, Funaza...|Endocrinol Diabet...|Diabetic ketoacid...|type+1+diabetes| 14|\n",
      "|Continuous glucos...|[Feig DS, Donovan...|Lancet. 2017 Sep ...|BACKGROUND: Pregn...|type+1+diabetes| 15|\n",
      "|Serous retinal de...|[Schatz P, Aldaye...|J Med Case Rep. 2...|BACKGROUND: Proli...|type+1+diabetes| 16|\n",
      "|Relationship betw...|[Ranjan A, Wendt ...|Basic Clin Pharma...|Hypoglycaemia rem...|type+1+diabetes| 17|\n",
      "|A Study Examining...|[Hinojosa SL, Hei...|J Am Coll Nutr. 2...|OBJECTIVE: The pu...|type+1+diabetes| 18|\n",
      "|Single-Cell Gene ...|[Petersen MBK, Az...|Stem Cell Reports...|The production of...|type+1+diabetes| 19|\n",
      "+--------------------+--------------------+--------------------+--------------------+---------------+---+\n",
      "only showing top 20 rows\n",
      "\n"
     ]
    }
   ],
   "source": [
    "non_empty_texts.show()"
   ]
  },
  {
   "cell_type": "code",
   "execution_count": 13,
   "metadata": {
    "collapsed": true
   },
   "outputs": [],
   "source": [
    "label_indexer = spark_ft.StringIndexer(inputCol='Topic', outputCol='label')"
   ]
  },
  {
   "cell_type": "code",
   "execution_count": 14,
   "metadata": {
    "collapsed": true
   },
   "outputs": [],
   "source": [
    "label_indexer_model = label_indexer.fit(non_empty_texts)"
   ]
  },
  {
   "cell_type": "code",
   "execution_count": 15,
   "metadata": {
    "collapsed": true
   },
   "outputs": [],
   "source": [
    "label_deindexer = spark_ft.IndexToString(inputCol='prediction', outputCol='pred_label', \n",
    "                                         labels=label_indexer_model.labels)"
   ]
  },
  {
   "cell_type": "code",
   "execution_count": 16,
   "metadata": {
    "collapsed": true
   },
   "outputs": [],
   "source": [
    "train, test = label_indexer_model.transform(non_empty_texts).randomSplit(weights=[0.8, 0.2], seed=123)"
   ]
  },
  {
   "cell_type": "code",
   "execution_count": 17,
   "metadata": {
    "collapsed": true
   },
   "outputs": [],
   "source": [
    "def extract_tokens(annotations):\n",
    "    return [a.metadata['token'] for a in annotations]\n",
    "retType = pyspark.sql.types.ArrayType(pyspark.sql.types.StringType())\n",
    "\n",
    "spark.udf.register('extract', f=extract_tokens, returnType=retType)"
   ]
  },
  {
   "cell_type": "code",
   "execution_count": 18,
   "metadata": {
    "collapsed": true
   },
   "outputs": [],
   "source": [
    "abstract_assembler = sparknlp.DocumentAssembler(inputCol='Abstract', outputCol='document')\n",
    "title_assembler = sparknlp.DocumentAssembler(inputCol='Title', outputCol='document')\n",
    "\n",
    "sentence_segmenter = sparknlp.SentenceDetectorModel(inputCols=['document'], outputCol='sentence')\n",
    "    \n",
    "tokenizer = sparknlp.RegexTokenizer(inputCols=['sentence'], outputCol='token')\n",
    "\n",
    "stemmer = sparknlp.Stemmer(inputCols=['token'], outputCol='stem')\n",
    "\n",
    "normalizer = sparknlp.Normalizer(inputCols=['stem'], outputCol='ntoken')\n",
    "\n",
    "text_extractor = spark_ft.SQLTransformer(statement='''\n",
    "SELECT Title, Authors, Source, Topic, label, extract(ntoken) AS text\n",
    "FROM __THIS__\n",
    "''')\n",
    "\n",
    "title_extractor = spark_ft.SQLTransformer(statement='''\n",
    "SELECT Authors, Source, Topic, label, text, extract(ntoken) AS title\n",
    "FROM __THIS__\n",
    "''')\n",
    "\n",
    "stopWords = spark_ft.StopWordsRemover.loadDefaultStopWords('english')\n",
    "sw_remover = spark_ft.StopWordsRemover(inputCol='text', outputCol='clean_text', stopWords=stopWords)\n",
    "\n",
    "nlp_pipeline = Pipeline(stages=[sentence_segmenter, tokenizer, stemmer, normalizer])\n",
    "\n",
    "abstract_pipeline = Pipeline(stages=[abstract_assembler, nlp_pipeline, text_extractor, sw_remover])\n",
    "title_pipeline = Pipeline(stages=[title_assembler, nlp_pipeline, title_extractor])\n",
    "\n",
    "preproc_pipeline = Pipeline(stages=[abstract_pipeline, title_pipeline])"
   ]
  },
  {
   "cell_type": "code",
   "execution_count": 19,
   "metadata": {
    "collapsed": true
   },
   "outputs": [],
   "source": [
    "processed = preproc_pipeline.fit(train).transform(train)"
   ]
  },
  {
   "cell_type": "code",
   "execution_count": 20,
   "metadata": {},
   "outputs": [
    {
     "name": "stdout",
     "output_type": "stream",
     "text": [
      "+--------------------+--------------------+---------------+-----+--------------------+--------------------+\n",
      "|             Authors|              Source|          Topic|label|                text|               title|\n",
      "+--------------------+--------------------+---------------+-----+--------------------+--------------------+\n",
      "|                  []|                    |type+1+diabetes|  0.0|[educ, patient, i...|                  []|\n",
      "|[Lindstrom C, Ama...|J Pediatr Nurs. 2...|type+1+diabetes|  0.0|[purpose, to, exp...|[mission, impossi...|\n",
      "|[Anjana RM, Kesav...|Diabetes Technol ...|type+1+diabetes|  0.0|[aim, to, assess,...|[a, multicent, re...|\n",
      "|[Ramkissoon CM, A...|IEEE Rev Biomed E...|type+1+diabetes|  0.0|[the, artifici, p...|[a, review, of, s...|\n",
      "|[Hinojosa SL, Hei...|J Am Coll Nutr. 2...|type+1+diabetes|  0.0|[objective, the, ...|[a, studi, examin...|\n",
      "|[Sun H, Han X, Ya...|Cell Immunol. 201...|type+1+diabetes|  0.0|[relat, studi, de...|[a, novel, mimovi...|\n",
      "|[Jing YH, Qi CC, ...|Neural Regen Res....|type+1+diabetes|  0.0|[sensit, smell, d...|[adult, neural, s...|\n",
      "|[Buzzetti R, Zamp...|Nat Rev Endocrino...|type+1+diabetes|  0.0|[adultonset, auto...|[adultonset, auto...|\n",
      "|[Ryan AJ, O'Neill...|Curr Opin Pharmac...|type+1+diabetes|  0.0|[islet, transplan...|[advanc, in, poly...|\n",
      "|[Felicio JS, de O...|Front Endocrinol ...|type+1+diabetes|  0.0|[background, some...|[albuminuria, red...|\n",
      "|[Levet S, Medina ...|JCI Insight. 2017...|type+1+diabetes|  0.0|[human, endogen, ...|[an, ancestr, ret...|\n",
      "|[Battersby R, Swe...|Nutr Diet. 2017 S...|type+1+diabetes|  0.0|[aim, optim, glyc...|[audit, of, the, ...|\n",
      "|[Cipriani F, Marz...|J Dermatol. 2017 ...|type+1+diabetes|  0.0|[evid, ha, emerg,...|[autoimmun, disea...|\n",
      "|[Konstantinidis L...|BMC Endocr Disord...|type+1+diabetes|  0.0|[background, the,...|[awar, and, pract...|\n",
      "|[Smith-Cohn MA, G...|Immunotherapy. 20...|type+1+diabetes|  0.0|[background, immu...|[case, report, pe...|\n",
      "|[Saeed A, Assiri ...|Saudi Med J. 2017...|type+1+diabetes|  0.0|[objectives, to, ...|[celiac, diseas, ...|\n",
      "|[Gupte M, Lal H, ...|J Card Fail. 2017...|type+1+diabetes|  0.0|[background, typ,...|[chronic, neuregu...|\n",
      "|[Iijima T, Kato K...|Diabetes Res Clin...|type+1+diabetes|  0.0|[program, cell, d...|[circul, cdpd, an...|\n",
      "|[Breton MD, Chern...|Diabetes Care. 20...|type+1+diabetes|  0.0|[objective, inten...|[close, loop, con...|\n",
      "|[Dovc K, Macedoni...|Diabetologia. 201...|type+1+diabetes|  0.0|[aimshypothesis, ...|[closedloop, gluc...|\n",
      "+--------------------+--------------------+---------------+-----+--------------------+--------------------+\n",
      "only showing top 20 rows\n",
      "\n"
     ]
    }
   ],
   "source": [
    "processed.show()"
   ]
  },
  {
   "cell_type": "code",
   "execution_count": 21,
   "metadata": {
    "collapsed": true
   },
   "outputs": [],
   "source": [
    "text2vec = spark_ft.Word2Vec(\n",
    "    vectorSize=100, minCount=5, seed=123, \n",
    "    inputCol='text', outputCol='text_vec', \n",
    "    windowSize=5, maxSentenceLength=30\n",
    ")\n",
    "\n",
    "title2vec = spark_ft.Word2Vec(\n",
    "    vectorSize=50, minCount=3, seed=123, \n",
    "    inputCol='title', outputCol='title_vec', \n",
    "    windowSize=5, maxSentenceLength=10\n",
    ")\n",
    "\n",
    "assembler = spark_ft.VectorAssembler(inputCols=['text_vec', 'title_vec'], outputCol='features')\n",
    "\n",
    "feature_pipeline = Pipeline(stages=[text2vec, title2vec, assembler])"
   ]
  },
  {
   "cell_type": "code",
   "execution_count": 22,
   "metadata": {
    "collapsed": true
   },
   "outputs": [],
   "source": [
    "features = feature_pipeline.fit(processed).transform(processed)"
   ]
  },
  {
   "cell_type": "code",
   "execution_count": 23,
   "metadata": {},
   "outputs": [
    {
     "name": "stdout",
     "output_type": "stream",
     "text": [
      "+--------------------+--------------------+---------------+-----+--------------------+--------------------+--------------------+--------------------+--------------------+\n",
      "|             Authors|              Source|          Topic|label|                text|               title|            text_vec|           title_vec|            features|\n",
      "+--------------------+--------------------+---------------+-----+--------------------+--------------------+--------------------+--------------------+--------------------+\n",
      "|                  []|                    |type+1+diabetes|  0.0|[educ, patient, i...|                  []|[-0.0057487625206...|          (50,[],[])|[-0.0057487625206...|\n",
      "|[Lindstrom C, Ama...|J Pediatr Nurs. 2...|type+1+diabetes|  0.0|[purpose, to, exp...|[mission, impossi...|[-0.0097414343990...|[-0.0058479524107...|[-0.0097414343990...|\n",
      "|[Anjana RM, Kesav...|Diabetes Technol ...|type+1+diabetes|  0.0|[aim, to, assess,...|[a, multicent, re...|[-0.0026577643452...|[-0.0105854638386...|[-0.0026577643452...|\n",
      "|[Ramkissoon CM, A...|IEEE Rev Biomed E...|type+1+diabetes|  0.0|[the, artifici, p...|[a, review, of, s...|[-0.0484000039784...|[0.04307758880101...|[-0.0484000039784...|\n",
      "|[Hinojosa SL, Hei...|J Am Coll Nutr. 2...|type+1+diabetes|  0.0|[objective, the, ...|[a, studi, examin...|[-0.0435411346145...|[0.02089625513846...|[-0.0435411346145...|\n",
      "|[Sun H, Han X, Ya...|Cell Immunol. 201...|type+1+diabetes|  0.0|[relat, studi, de...|[a, novel, mimovi...|[-0.0122668456914...|[0.00491391831181...|[-0.0122668456914...|\n",
      "|[Jing YH, Qi CC, ...|Neural Regen Res....|type+1+diabetes|  0.0|[sensit, smell, d...|[adult, neural, s...|[-0.0147013230754...|[0.01581053455205...|[-0.0147013230754...|\n",
      "|[Buzzetti R, Zamp...|Nat Rev Endocrino...|type+1+diabetes|  0.0|[adultonset, auto...|[adultonset, auto...|[-0.0286842144751...|[-0.0334047414362...|[-0.0286842144751...|\n",
      "|[Ryan AJ, O'Neill...|Curr Opin Pharmac...|type+1+diabetes|  0.0|[islet, transplan...|[advanc, in, poly...|[-0.0494883800321...|[0.05137766586267...|[-0.0494883800321...|\n",
      "|[Felicio JS, de O...|Front Endocrinol ...|type+1+diabetes|  0.0|[background, some...|[albuminuria, red...|[-0.0171882325758...|[-0.0702064676922...|[-0.0171882325758...|\n",
      "|[Levet S, Medina ...|JCI Insight. 2017...|type+1+diabetes|  0.0|[human, endogen, ...|[an, ancestr, ret...|[0.00547114987124...|[-0.0124264354817...|[0.00547114987124...|\n",
      "|[Battersby R, Swe...|Nutr Diet. 2017 S...|type+1+diabetes|  0.0|[aim, optim, glyc...|[audit, of, the, ...|[-0.0198385732318...|[-0.0234579321094...|[-0.0198385732318...|\n",
      "|[Cipriani F, Marz...|J Dermatol. 2017 ...|type+1+diabetes|  0.0|[evid, ha, emerg,...|[autoimmun, disea...|[0.00719619157120...|[-6.8729914920894...|[0.00719619157120...|\n",
      "|[Konstantinidis L...|BMC Endocr Disord...|type+1+diabetes|  0.0|[background, the,...|[awar, and, pract...|[-0.0186779550498...|[0.00265108706985...|[-0.0186779550498...|\n",
      "|[Smith-Cohn MA, G...|Immunotherapy. 20...|type+1+diabetes|  0.0|[background, immu...|[case, report, pe...|[0.00216804335525...|[-0.0870165774937...|[0.00216804335525...|\n",
      "|[Saeed A, Assiri ...|Saudi Med J. 2017...|type+1+diabetes|  0.0|[objectives, to, ...|[celiac, diseas, ...|[0.00511441373025...|[0.01714181916957...|[0.00511441373025...|\n",
      "|[Gupte M, Lal H, ...|J Card Fail. 2017...|type+1+diabetes|  0.0|[background, typ,...|[chronic, neuregu...|[-0.0111287624768...|[0.00344147455999...|[-0.0111287624768...|\n",
      "|[Iijima T, Kato K...|Diabetes Res Clin...|type+1+diabetes|  0.0|[program, cell, d...|[circul, cdpd, an...|[-0.0042087497213...|[-0.0035360802861...|[-0.0042087497213...|\n",
      "|[Breton MD, Chern...|Diabetes Care. 20...|type+1+diabetes|  0.0|[objective, inten...|[close, loop, con...|[-0.0153526428841...|[-0.0248432458611...|[-0.0153526428841...|\n",
      "|[Dovc K, Macedoni...|Diabetologia. 201...|type+1+diabetes|  0.0|[aimshypothesis, ...|[closedloop, gluc...|[-0.0460748827951...|[-0.0267773714847...|[-0.0460748827951...|\n",
      "+--------------------+--------------------+---------------+-----+--------------------+--------------------+--------------------+--------------------+--------------------+\n",
      "only showing top 20 rows\n",
      "\n"
     ]
    }
   ],
   "source": [
    "features.show()"
   ]
  },
  {
   "cell_type": "code",
   "execution_count": 24,
   "metadata": {
    "collapsed": true
   },
   "outputs": [],
   "source": [
    "text2vec_model = text2vec.fit(processed)"
   ]
  },
  {
   "cell_type": "code",
   "execution_count": 25,
   "metadata": {},
   "outputs": [
    {
     "name": "stdout",
     "output_type": "stream",
     "text": [
      "+--------------+------------------+\n",
      "|          word|        similarity|\n",
      "+--------------+------------------+\n",
      "|    overweight|0.8971319198608398|\n",
      "|       obesity|0.8856418132781982|\n",
      "|     carbohydr|0.8844031095504761|\n",
      "|           bil|0.8821799159049988|\n",
      "|      sterilis|0.8780583143234253|\n",
      "|        dysind|0.8773793578147888|\n",
      "|     pancreata|0.8729743361473083|\n",
      "|    bradykinin|0.8712244033813477|\n",
      "|diabetesspecif| 0.871192991733551|\n",
      "|           stz|0.8676058053970337|\n",
      "+--------------+------------------+\n",
      "\n"
     ]
    }
   ],
   "source": [
    "text2vec_model.findSynonyms('obes', 10).show()"
   ]
  },
  {
   "cell_type": "code",
   "execution_count": 26,
   "metadata": {},
   "outputs": [
    {
     "name": "stdout",
     "output_type": "stream",
     "text": [
      "+---------+------------------+\n",
      "|     word|        similarity|\n",
      "+---------+------------------+\n",
      "|psycholog|0.8305636048316956|\n",
      "|  traumat|0.8215893507003784|\n",
      "| problems|0.8119535446166992|\n",
      "|  violenc| 0.809847891330719|\n",
      "|   predat|0.7966498732566833|\n",
      "|    intim| 0.788361132144928|\n",
      "|  exposur|0.7770265936851501|\n",
      "|   deploy|0.7699192762374878|\n",
      "|   improv|0.7689777612686157|\n",
      "| violence| 0.766805112361908|\n",
      "+---------+------------------+\n",
      "\n"
     ]
    }
   ],
   "source": [
    "text2vec_model.findSynonyms('trauma', 10).show()"
   ]
  },
  {
   "cell_type": "code",
   "execution_count": 27,
   "metadata": {
    "collapsed": true
   },
   "outputs": [],
   "source": [
    "mlpc = spark_cls.MultilayerPerceptronClassifier(\n",
    "    maxIter=100, seed=123, layers=[150, 75, 4]\n",
    ")\n",
    "\n",
    "full_pipeline = Pipeline(stages=[preproc_pipeline, feature_pipeline, mlpc, label_deindexer])"
   ]
  },
  {
   "cell_type": "code",
   "execution_count": 28,
   "metadata": {
    "collapsed": true
   },
   "outputs": [],
   "source": [
    "model = full_pipeline.fit(train)"
   ]
  },
  {
   "cell_type": "code",
   "execution_count": 29,
   "metadata": {
    "collapsed": true
   },
   "outputs": [],
   "source": [
    "preds = model.transform(test)"
   ]
  },
  {
   "cell_type": "code",
   "execution_count": 30,
   "metadata": {},
   "outputs": [
    {
     "name": "stdout",
     "output_type": "stream",
     "text": [
      "+--------------------+--------------------+---------------+-----+--------------------+--------------------+--------------------+--------------------+--------------------+----------+---------------+\n",
      "|             Authors|              Source|          Topic|label|                text|               title|            text_vec|           title_vec|            features|prediction|     pred_label|\n",
      "+--------------------+--------------------+---------------+-----+--------------------+--------------------+--------------------+--------------------+--------------------+----------+---------------+\n",
      "|                  []|                    |type+1+diabetes|  0.0|[few, medic, inte...|                  []|[0.03263338096829...|          (50,[],[])|[0.03263338096829...|       2.0|  heart+disease|\n",
      "|                  []|                    |type+1+diabetes|  0.0|[thi, report, rev...|                  []|[-0.0115158061866...|          (50,[],[])|[-0.0115158061866...|       0.0|type+1+diabetes|\n",
      "|[Hall B, Zebrowsk...|Exp Clin Endocrin...|type+1+diabetes|  0.0|[object, the, aim...|                  []|[-0.0383649166579...|          (50,[],[])|[-0.0383649166579...|       0.0|type+1+diabetes|\n",
      "|[Herrero P, Bondi...|Comput Methods Bi...|type+1+diabetes|  0.0|[typ, diabet, i, ...|[a, coordin, cont...|[-0.0520847687913...|[-0.0306633180298...|[-0.0520847687913...|       0.0|type+1+diabetes|\n",
      "|[Saglam D, Bilgic...|AJR Am J Roentgen...|type+1+diabetes|  0.0|[objective, the, ...|[acoust, radiat, ...|[-0.0311180710633...|[0.00851850335694...|[-0.0311180710633...|       0.0|type+1+diabetes|\n",
      "|[Jermendy A, Szat...|Pediatr Diabetes....|type+1+diabetes|  0.0|[background, infe...|[associ, between,...|[-0.0159092037752...|[-0.0449459689426...|[-0.0159092037752...|       0.0|type+1+diabetes|\n",
      "|[Kelly CB, Hookha...|Diabetologia. 201...|type+1+diabetes|  0.0|[aimshypothesis, ...|[circul, adipokin...|[-0.0206252173532...|[-0.0678146716884...|[-0.0206252173532...|       0.0|type+1+diabetes|\n",
      "|[Ramachandran S, ...|J Complement Inte...|type+1+diabetes|  0.0|[background, anog...|[compar, evalu, o...|[-0.0277040083545...|[-0.0195863382476...|[-0.0277040083545...|       0.0|type+1+diabetes|\n",
      "|[Feig DS, Donovan...|Lancet. 2017 Sep ...|type+1+diabetes|  0.0|[background, preg...|[continu, glucos,...|[-0.0187617567085...|[-0.0428475060325...|[-0.0187617567085...|       0.0|type+1+diabetes|\n",
      "|[Kent SC, Manneri...|Curr Diab Rep. 20...|type+1+diabetes|  0.0|[purpos, of, revi...|[deciph, the, pat...|[-0.0257394486808...|[0.01865339656877...|[-0.0257394486808...|       0.0|type+1+diabetes|\n",
      "|[Frid A, Tura A, ...|Nutrients. 2017 S...|type+1+diabetes|  0.0|[we, conduct, a, ...|[effect, of, oral...|[-0.0181369626444...|[-0.0124050546300...|[-0.0181369626444...|       0.0|type+1+diabetes|\n",
      "|[Qi M, Bilbao S, ...|Cell Tissue Bank....|type+1+diabetes|  0.0|[islet, transplan...|[encompass, atp, ...|[-0.0103131434180...|[0.03850790208671...|[-0.0103131434180...|       0.0|type+1+diabetes|\n",
      "|[Nystrom T, Holzm...|Diabetes Obes Met...|type+1+diabetes|  0.0|[aims, thi, studi...|[estim, glucos, d...|[-0.0315200349126...|[-0.0610648705200...|[-0.0315200349126...|       0.0|type+1+diabetes|\n",
      "|[Satyarengga M, Z...|AACE Clin Case Re...|type+1+diabetes|  0.0|[objective, to, d...|[glycogen, hepato...|[-0.0152484614385...|[-0.0672254205814...|[-0.0152484614385...|       0.0|type+1+diabetes|\n",
      "|  [Mauvais-Jarvis F]|Physiol Behav. 20...|type+1+diabetes|  0.0|[some, aspect, of...|[gender, differ, ...|[-0.0382832022084...|[-0.0140486463372...|[-0.0382832022084...|       0.0|type+1+diabetes|\n",
      "|[Li JZ, Li JY, Wu...|Gastroenterol Res...|type+1+diabetes|  0.0|[background, extr...|[helicobact, pylo...|[0.02515812766119...|[-0.1092914745012...|[0.02515812766119...|       0.0|type+1+diabetes|\n",
      "|[Gildersleeve R, ...|Diabetes Technol ...|type+1+diabetes|  0.0|[background, arti...|[improv, the, saf...|[-0.0212423861906...|[0.04890352075453...|[-0.0212423861906...|       0.0|type+1+diabetes|\n",
      "|[Li YG, Dong ZF, ...|Biochem Biophys R...|type+1+diabetes|  0.0|[insulin, i, invo...|[insulin, upregul...|[-0.0379294907075...|[-0.0226187878151...|[-0.0379294907075...|       0.0|type+1+diabetes|\n",
      "|[Yu H, Gagliani N...|Proc Natl Acad Sc...|type+1+diabetes|  0.0|[growe, insight, ...|[intestin, typ, r...|[-0.0219510586013...|[-0.0199377490344...|[-0.0219510586013...|       0.0|type+1+diabetes|\n",
      "|[Dirice E, Ng R, ...|J Biol Chem. 2017...|type+1+diabetes|  0.0|[preserv, of, ins...|[isoformselect, i...|[-0.0166607747206...|[-0.0417585904748...|[-0.0166607747206...|       0.0|type+1+diabetes|\n",
      "+--------------------+--------------------+---------------+-----+--------------------+--------------------+--------------------+--------------------+--------------------+----------+---------------+\n",
      "only showing top 20 rows\n",
      "\n"
     ]
    }
   ],
   "source": [
    "preds.show()"
   ]
  },
  {
   "cell_type": "code",
   "execution_count": 31,
   "metadata": {
    "collapsed": true
   },
   "outputs": [],
   "source": [
    "pred_df = preds.select('title', 'text', 'label', 'prediction').toPandas()"
   ]
  },
  {
   "cell_type": "code",
   "execution_count": 32,
   "metadata": {},
   "outputs": [
    {
     "data": {
      "text/html": [
       "<div>\n",
       "<table border=\"1\" class=\"dataframe\">\n",
       "  <thead>\n",
       "    <tr style=\"text-align: right;\">\n",
       "      <th></th>\n",
       "      <th>title</th>\n",
       "      <th>text</th>\n",
       "      <th>label</th>\n",
       "      <th>prediction</th>\n",
       "    </tr>\n",
       "  </thead>\n",
       "  <tbody>\n",
       "    <tr>\n",
       "      <th>0</th>\n",
       "      <td>[]</td>\n",
       "      <td>[few, medic, intervent, have, had, a, great, a...</td>\n",
       "      <td>0.0</td>\n",
       "      <td>2.0</td>\n",
       "    </tr>\n",
       "    <tr>\n",
       "      <th>1</th>\n",
       "      <td>[]</td>\n",
       "      <td>[thi, report, review, the, scientif, evid, for...</td>\n",
       "      <td>0.0</td>\n",
       "      <td>0.0</td>\n",
       "    </tr>\n",
       "    <tr>\n",
       "      <th>2</th>\n",
       "      <td>[]</td>\n",
       "      <td>[object, the, aim, of, the, studi, wa, to, ass...</td>\n",
       "      <td>0.0</td>\n",
       "      <td>0.0</td>\n",
       "    </tr>\n",
       "    <tr>\n",
       "      <th>3</th>\n",
       "      <td>[a, coordin, control, strategi, for, insulin, ...</td>\n",
       "      <td>[typ, diabet, i, an, autoimmun, condit, charac...</td>\n",
       "      <td>0.0</td>\n",
       "      <td>0.0</td>\n",
       "    </tr>\n",
       "    <tr>\n",
       "      <th>4</th>\n",
       "      <td>[acoust, radiat, forc, impuls, elastographi, i...</td>\n",
       "      <td>[objective, the, aim, of, thi, studi, i, to, d...</td>\n",
       "      <td>0.0</td>\n",
       "      <td>0.0</td>\n",
       "    </tr>\n",
       "  </tbody>\n",
       "</table>\n",
       "</div>"
      ],
      "text/plain": [
       "                                               title  \\\n",
       "0                                                 []   \n",
       "1                                                 []   \n",
       "2                                                 []   \n",
       "3  [a, coordin, control, strategi, for, insulin, ...   \n",
       "4  [acoust, radiat, forc, impuls, elastographi, i...   \n",
       "\n",
       "                                                text  label  prediction  \n",
       "0  [few, medic, intervent, have, had, a, great, a...    0.0         2.0  \n",
       "1  [thi, report, review, the, scientif, evid, for...    0.0         0.0  \n",
       "2  [object, the, aim, of, the, studi, wa, to, ass...    0.0         0.0  \n",
       "3  [typ, diabet, i, an, autoimmun, condit, charac...    0.0         0.0  \n",
       "4  [objective, the, aim, of, thi, studi, i, to, d...    0.0         0.0  "
      ]
     },
     "execution_count": 32,
     "metadata": {},
     "output_type": "execute_result"
    }
   ],
   "source": [
    "pred_df.head()"
   ]
  },
  {
   "cell_type": "code",
   "execution_count": 33,
   "metadata": {},
   "outputs": [
    {
     "data": {
      "text/plain": [
       "[(0, 'type+1+diabetes'),\n",
       " (1, 'post+traumatic+stress+disorder'),\n",
       " (2, 'heart+disease'),\n",
       " (3, 'creutzfeldt+jakob+disease')]"
      ]
     },
     "execution_count": 33,
     "metadata": {},
     "output_type": "execute_result"
    }
   ],
   "source": [
    "list(enumerate(label_indexer_model.labels))"
   ]
  },
  {
   "cell_type": "code",
   "execution_count": 34,
   "metadata": {},
   "outputs": [
    {
     "data": {
      "text/html": [
       "<div>\n",
       "<table border=\"1\" class=\"dataframe\">\n",
       "  <thead>\n",
       "    <tr style=\"text-align: right;\">\n",
       "      <th></th>\n",
       "      <th>pred type+1+diabetes</th>\n",
       "      <th>pred post+traumatic+stress+disorder</th>\n",
       "      <th>pred heart+disease</th>\n",
       "      <th>pred creutzfeldt+jakob+disease</th>\n",
       "    </tr>\n",
       "  </thead>\n",
       "  <tbody>\n",
       "    <tr>\n",
       "      <th>true type+1+diabetes</th>\n",
       "      <td>112</td>\n",
       "      <td>0</td>\n",
       "      <td>12</td>\n",
       "      <td>1</td>\n",
       "    </tr>\n",
       "    <tr>\n",
       "      <th>true post+traumatic+stress+disorder</th>\n",
       "      <td>0</td>\n",
       "      <td>99</td>\n",
       "      <td>4</td>\n",
       "      <td>1</td>\n",
       "    </tr>\n",
       "    <tr>\n",
       "      <th>true heart+disease</th>\n",
       "      <td>5</td>\n",
       "      <td>1</td>\n",
       "      <td>69</td>\n",
       "      <td>1</td>\n",
       "    </tr>\n",
       "    <tr>\n",
       "      <th>true creutzfeldt+jakob+disease</th>\n",
       "      <td>0</td>\n",
       "      <td>0</td>\n",
       "      <td>3</td>\n",
       "      <td>91</td>\n",
       "    </tr>\n",
       "  </tbody>\n",
       "</table>\n",
       "</div>"
      ],
      "text/plain": [
       "                                     pred type+1+diabetes  \\\n",
       "true type+1+diabetes                                  112   \n",
       "true post+traumatic+stress+disorder                     0   \n",
       "true heart+disease                                      5   \n",
       "true creutzfeldt+jakob+disease                          0   \n",
       "\n",
       "                                     pred post+traumatic+stress+disorder  \\\n",
       "true type+1+diabetes                                                   0   \n",
       "true post+traumatic+stress+disorder                                   99   \n",
       "true heart+disease                                                     1   \n",
       "true creutzfeldt+jakob+disease                                         0   \n",
       "\n",
       "                                     pred heart+disease  \\\n",
       "true type+1+diabetes                                 12   \n",
       "true post+traumatic+stress+disorder                   4   \n",
       "true heart+disease                                   69   \n",
       "true creutzfeldt+jakob+disease                        3   \n",
       "\n",
       "                                     pred creutzfeldt+jakob+disease  \n",
       "true type+1+diabetes                                              1  \n",
       "true post+traumatic+stress+disorder                               1  \n",
       "true heart+disease                                                1  \n",
       "true creutzfeldt+jakob+disease                                   91  "
      ]
     },
     "execution_count": 34,
     "metadata": {},
     "output_type": "execute_result"
    }
   ],
   "source": [
    "pd.DataFrame(\n",
    "    data=skmetrics.confusion_matrix(pred_df['label'], pred_df['prediction']),\n",
    "    columns=['pred ' + l for l in label_indexer_model.labels],\n",
    "    index=['true ' + l for l in label_indexer_model.labels]\n",
    ")"
   ]
  },
  {
   "cell_type": "code",
   "execution_count": 35,
   "metadata": {},
   "outputs": [
    {
     "name": "stdout",
     "output_type": "stream",
     "text": [
      "                                precision    recall  f1-score   support\n",
      "\n",
      "               type+1+diabetes       0.96      0.90      0.93       125\n",
      "post+traumatic+stress+disorder       0.99      0.95      0.97       104\n",
      "                 heart+disease       0.78      0.91      0.84        76\n",
      "     creutzfeldt+jakob+disease       0.97      0.97      0.97        94\n",
      "\n",
      "                   avg / total       0.94      0.93      0.93       399\n",
      "\n"
     ]
    }
   ],
   "source": [
    "print(skmetrics.classification_report(pred_df['label'], pred_df['prediction'], \n",
    "                                      target_names=label_indexer_model.labels))"
   ]
  }
 ],
 "metadata": {
  "kernelspec": {
   "display_name": "Python 3",
   "language": "python",
   "name": "python3"
  },
  "language_info": {
   "codemirror_mode": {
    "name": "ipython",
    "version": 3
   },
   "file_extension": ".py",
   "mimetype": "text/x-python",
   "name": "python",
   "nbconvert_exporter": "python",
   "pygments_lexer": "ipython3",
   "version": "3.6.2"
  }
 },
 "nbformat": 4,
 "nbformat_minor": 2
}
